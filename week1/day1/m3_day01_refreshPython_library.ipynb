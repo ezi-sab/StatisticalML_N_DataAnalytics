{
 "cells": [
  {
   "cell_type": "markdown",
   "id": "cb9d008b-4efc-4d59-a384-1b5e50bdb198",
   "metadata": {},
   "source": [
    "# M3. Statistical Machine Learning & Data Analytics\n",
    "---"
   ]
  },
  {
   "cell_type": "markdown",
   "id": "e7b2bcef-828c-4025-9819-db6e55a8186b",
   "metadata": {},
   "source": [
    "### Python Refresher\n",
    "Start to refresh Python for module M3. Statistical Machine Learning & Data Analytics."
   ]
  },
  {
   "cell_type": "markdown",
   "id": "9bc27c40-4636-43ee-a91a-b1bcebcc875f",
   "metadata": {},
   "source": [
    "**Importing**"
   ]
  },
  {
   "cell_type": "code",
   "execution_count": 6,
   "id": "5fc1b347-7ccc-44c2-b2d8-a1cf4c6d981d",
   "metadata": {},
   "outputs": [
    {
     "data": {
      "text/plain": [
       "5.477225575051661"
      ]
     },
     "execution_count": 6,
     "metadata": {},
     "output_type": "execute_result"
    }
   ],
   "source": [
    "import math # Import module 'math' has some maths func. that might be useful\n",
    "            # https://docs.python.org/3/library/math.html\n",
    "\n",
    "# square foot function\n",
    "math.sqrt(30)"
   ]
  },
  {
   "cell_type": "markdown",
   "id": "060341f1-8a40-46e2-8de5-2a22ad3ce900",
   "metadata": {},
   "source": [
    "Another way is to import the functions out of modules directly."
   ]
  },
  {
   "cell_type": "code",
   "execution_count": 7,
   "id": "b6a3a41c-6be0-42c2-a298-45bf070c4977",
   "metadata": {},
   "outputs": [
    {
     "data": {
      "text/plain": [
       "5.477225575051661"
      ]
     },
     "execution_count": 7,
     "metadata": {},
     "output_type": "execute_result"
    }
   ],
   "source": [
    "from math import sqrt\n",
    "\n",
    "sqrt(30)"
   ]
  },
  {
   "cell_type": "code",
   "execution_count": 8,
   "id": "65e0b5a7-4a7a-4d31-b550-48c54f9d7a57",
   "metadata": {},
   "outputs": [
    {
     "data": {
      "text/plain": [
       "5.477225575051661"
      ]
     },
     "execution_count": 8,
     "metadata": {},
     "output_type": "execute_result"
    }
   ],
   "source": [
    "import math as m\n",
    "\n",
    "m.sqrt(30)"
   ]
  },
  {
   "cell_type": "markdown",
   "id": "70bfdbbb-a1a0-41c6-a2aa-2343d5f2caef",
   "metadata": {},
   "source": [
    "> dir( )\n",
    "\n",
    "&emsp; &emsp; By using dir( ) function, we can find out exactly what a modyle contains"
   ]
  },
  {
   "cell_type": "code",
   "execution_count": 9,
   "id": "f7a2c396-f64e-443c-9265-ffe634f76071",
   "metadata": {},
   "outputs": [
    {
     "data": {
      "text/plain": [
       "['__doc__',\n",
       " '__file__',\n",
       " '__loader__',\n",
       " '__name__',\n",
       " '__package__',\n",
       " '__spec__',\n",
       " 'acos',\n",
       " 'acosh',\n",
       " 'asin',\n",
       " 'asinh',\n",
       " 'atan',\n",
       " 'atan2',\n",
       " 'atanh',\n",
       " 'ceil',\n",
       " 'comb',\n",
       " 'copysign',\n",
       " 'cos',\n",
       " 'cosh',\n",
       " 'degrees',\n",
       " 'dist',\n",
       " 'e',\n",
       " 'erf',\n",
       " 'erfc',\n",
       " 'exp',\n",
       " 'expm1',\n",
       " 'fabs',\n",
       " 'factorial',\n",
       " 'floor',\n",
       " 'fmod',\n",
       " 'frexp',\n",
       " 'fsum',\n",
       " 'gamma',\n",
       " 'gcd',\n",
       " 'hypot',\n",
       " 'inf',\n",
       " 'isclose',\n",
       " 'isfinite',\n",
       " 'isinf',\n",
       " 'isnan',\n",
       " 'isqrt',\n",
       " 'lcm',\n",
       " 'ldexp',\n",
       " 'lgamma',\n",
       " 'log',\n",
       " 'log10',\n",
       " 'log1p',\n",
       " 'log2',\n",
       " 'modf',\n",
       " 'nan',\n",
       " 'nextafter',\n",
       " 'perm',\n",
       " 'pi',\n",
       " 'pow',\n",
       " 'prod',\n",
       " 'radians',\n",
       " 'remainder',\n",
       " 'sin',\n",
       " 'sinh',\n",
       " 'sqrt',\n",
       " 'tan',\n",
       " 'tanh',\n",
       " 'tau',\n",
       " 'trunc',\n",
       " 'ulp']"
      ]
     },
     "execution_count": 9,
     "metadata": {},
     "output_type": "execute_result"
    }
   ],
   "source": [
    "dir(math)"
   ]
  },
  {
   "cell_type": "code",
   "execution_count": 11,
   "id": "bf2b7738-1392-4537-a6f4-176bcc149b6d",
   "metadata": {},
   "outputs": [
    {
     "name": "stdout",
     "output_type": "stream",
     "text": [
      "0.8414709848078965\n",
      "4\n",
      "3.141592653589793\n",
      "-inf\n"
     ]
    }
   ],
   "source": [
    "# trigonometry \n",
    "print(math.sin(1.0))\n",
    "# rounding\n",
    "print(math.floor(4.9))\n",
    "\n",
    "# built-in variables for mathematical constants\n",
    "print(math.pi)\n",
    "\n",
    "# and even a new type to handle positive and negative infinity\n",
    "print(5.0 * -math.inf)"
   ]
  },
  {
   "cell_type": "code",
   "execution_count": 12,
   "id": "5b79ac5e-ad0a-47f5-9ff3-3c9279965226",
   "metadata": {},
   "outputs": [
    {
     "name": "stdout",
     "output_type": "stream",
     "text": [
      "Help on built-in function pow in module math:\n",
      "\n",
      "pow(x, y, /)\n",
      "    Return x**y (x to the power of y).\n",
      "\n"
     ]
    }
   ],
   "source": [
    "# Can also see what a function does by using the help function:\n",
    "help(math.pow)"
   ]
  },
  {
   "cell_type": "code",
   "execution_count": 13,
   "id": "706d3dc2-096e-4bd9-b6ed-4f045e7f742a",
   "metadata": {},
   "outputs": [
    {
     "data": {
      "text/plain": [
       "\u001b[0;31mSignature:\u001b[0m \u001b[0mmath\u001b[0m\u001b[0;34m.\u001b[0m\u001b[0mpow\u001b[0m\u001b[0;34m(\u001b[0m\u001b[0mx\u001b[0m\u001b[0;34m,\u001b[0m \u001b[0my\u001b[0m\u001b[0;34m,\u001b[0m \u001b[0;34m/\u001b[0m\u001b[0;34m)\u001b[0m\u001b[0;34m\u001b[0m\u001b[0;34m\u001b[0m\u001b[0m\n",
       "\u001b[0;31mDocstring:\u001b[0m Return x**y (x to the power of y).\n",
       "\u001b[0;31mType:\u001b[0m      builtin_function_or_method\n"
      ]
     },
     "metadata": {},
     "output_type": "display_data"
    }
   ],
   "source": [
    "# by writing the name of the function with a question mark, you can get same thing\n",
    "math.pow?"
   ]
  },
  {
   "cell_type": "code",
   "execution_count": 18,
   "id": "48ab24c1-1443-478b-9939-f6db7d75366c",
   "metadata": {},
   "outputs": [
    {
     "name": "stdout",
     "output_type": "stream",
     "text": [
      "4\n",
      "2\n",
      "18\n"
     ]
    }
   ],
   "source": [
    "# TASK: import the library 'random'.\n",
    "import random\n",
    "# Use the documentation to find out how to create a random integer\n",
    "# between 1 and 6.\n",
    "print(random.randint(1,6))\n",
    "\n",
    "# Write a function called 'roll_d6', that returns a random integer between 1 and 6.\n",
    "# this function doesn't need to accept any inputs.\n",
    "def roll_d6():\n",
    "    roll_num = random.randint(1,6)\n",
    "    \n",
    "    return roll_num\n",
    "\n",
    "# TASK: if you can do that: then write another function called 'roll',\n",
    "# which accepts a single input as a number, and returns a random integer\n",
    "# between 1 and that number.\n",
    "def roll(maximum):\n",
    "    roll_rand = random.randint(1,maximum)\n",
    "    \n",
    "    return roll_rand\n",
    "\n",
    "# test this function out to see if it works properly!\n",
    "print(roll_d6())\n",
    "\n",
    "print(roll(20))"
   ]
  },
  {
   "cell_type": "markdown",
   "id": "0bebb0fc-1c1c-49ea-8259-00b4257d9ab3",
   "metadata": {},
   "source": [
    "**NumPy**\n",
    "\n",
    "A library refers to numeric computing for Python. \n",
    "\n",
    "It's useful for working with large arrays of numbers at once, which is of course useful for anything to do with statistics and data analysis. "
   ]
  },
  {
   "cell_type": "code",
   "execution_count": 19,
   "id": "250727e6-0e2d-4ef4-93da-bfe0636f45af",
   "metadata": {},
   "outputs": [],
   "source": [
    "import numpy as np"
   ]
  },
  {
   "cell_type": "markdown",
   "id": "821434ff-8859-4301-89d1-11c9093e183e",
   "metadata": {},
   "source": [
    "We'll often be working with arrays, such as matrices and vectors. These are just rectangular combinations of numbers:\n",
    "\n",
    "$$ \\large{ \\begin{pmatrix} 2 & 4 & 6 & 8 \\\\ 1 & 4 & 9 & 16 \\end{pmatrix} } $$\n",
    "\n",
    "This is a matrix with two rows and four columns. We can call it a $2 \\times 4$ matrix.\n",
    "\n",
    "A vector is basically a matrix, except with either 1 row or 1 column:\n",
    "\n",
    "$$ \\large{ \\begin{pmatrix} 1 & 3 & 6 & 10 \\end{pmatrix} } $$\n",
    "\n",
    "\n",
    "Let's see how these look in `numpy`:"
   ]
  },
  {
   "cell_type": "code",
   "execution_count": 28,
   "id": "f2123580-654f-4ed9-bc24-371b15574e20",
   "metadata": {},
   "outputs": [
    {
     "name": "stdout",
     "output_type": "stream",
     "text": [
      "[2, 4, 6, 8]\n",
      "9\n"
     ]
    }
   ],
   "source": [
    "number_list = [1, 3, 6, 10]\n",
    "\n",
    "list_of_lists = [[2, 4, 6, 8],\n",
    "                 [1, 4, 9, 16]]\n",
    "\n",
    "# Index the first row\n",
    "print(list_of_lists[0])\n",
    "\n",
    "print(list_of_lists[1][2]) # should give us '9'"
   ]
  },
  {
   "cell_type": "markdown",
   "id": "f7009ccf-8d70-49fb-90cf-ca2e9a1b7c9d",
   "metadata": {},
   "source": [
    "Let's instead turn them into numpy arrays with the np.asarray( )"
   ]
  },
  {
   "cell_type": "code",
   "execution_count": 29,
   "id": "5aa98d52-2daf-469c-a24e-b976b473bea9",
   "metadata": {},
   "outputs": [
    {
     "name": "stdout",
     "output_type": "stream",
     "text": [
      "[[ 2  4  6  8]\n",
      " [ 1  4  9 16]]\n",
      "9\n"
     ]
    }
   ],
   "source": [
    "vector = np.asarray(number_list)\n",
    "matrix = np.asarray(list_of_lists)\n",
    "\n",
    "print(matrix)\n",
    "\n",
    "print(matrix[1, 2])\n"
   ]
  },
  {
   "cell_type": "markdown",
   "id": "18538d0a-1c9e-460c-888b-c576ca0dcd8f",
   "metadata": {},
   "source": [
    "\"Always\" the first index is the row, and the second is the column."
   ]
  },
  {
   "cell_type": "code",
   "execution_count": 30,
   "id": "f7913615-a2ad-41a5-9a79-8f1f2be47f16",
   "metadata": {},
   "outputs": [
    {
     "name": "stdout",
     "output_type": "stream",
     "text": [
      "[2 4 6 8]\n",
      "[2 1]\n"
     ]
    }
   ],
   "source": [
    "print(matrix[0])\n",
    "print(matrix[:, 0])"
   ]
  },
  {
   "cell_type": "markdown",
   "id": "36b721e2-1686-4e1b-a0ef-af7db25527dc",
   "metadata": {},
   "source": [
    "Unlike the lists, we can perform mathematical operations on arrays:"
   ]
  },
  {
   "cell_type": "code",
   "execution_count": 31,
   "id": "ec7c47b5-8e1b-4312-a937-6613e20875f3",
   "metadata": {},
   "outputs": [
    {
     "data": {
      "text/plain": [
       "array([[ 4,  8, 12, 16],\n",
       "       [ 2,  8, 18, 32]])"
      ]
     },
     "execution_count": 31,
     "metadata": {},
     "output_type": "execute_result"
    }
   ],
   "source": [
    "matrix * 2"
   ]
  },
  {
   "cell_type": "code",
   "execution_count": 32,
   "id": "8c69588a-985f-46b7-a618-80ea325c4368",
   "metadata": {},
   "outputs": [
    {
     "data": {
      "text/plain": [
       "array([0.5, 1.5, 3. , 5. ])"
      ]
     },
     "execution_count": 32,
     "metadata": {},
     "output_type": "execute_result"
    }
   ],
   "source": [
    "vector / 2"
   ]
  },
  {
   "cell_type": "code",
   "execution_count": 33,
   "id": "f355f946-a5e0-47a3-a7a8-c71c2eb5e956",
   "metadata": {},
   "outputs": [
    {
     "data": {
      "text/plain": [
       "array([[ 4,  8, 12, 16],\n",
       "       [ 2,  8, 18, 32]])"
      ]
     },
     "execution_count": 33,
     "metadata": {},
     "output_type": "execute_result"
    }
   ],
   "source": [
    "matrix + matrix"
   ]
  },
  {
   "cell_type": "code",
   "execution_count": 35,
   "id": "abca89b5-025e-4428-a176-72c5bed71582",
   "metadata": {},
   "outputs": [
    {
     "data": {
      "text/plain": [
       "array([[ 3,  7, 12, 18],\n",
       "       [ 2,  7, 15, 26]])"
      ]
     },
     "execution_count": 35,
     "metadata": {},
     "output_type": "execute_result"
    }
   ],
   "source": [
    "matrix + vector   # this is called 'broadcasting': we have added the vector to each of the rows"
   ]
  },
  {
   "cell_type": "code",
   "execution_count": 36,
   "id": "6385236d-2b94-4a12-aa98-843ffcdbdda9",
   "metadata": {},
   "outputs": [
    {
     "data": {
      "text/plain": [
       "[[2, 4, 6, 8], [1, 4, 9, 16], [2, 4, 6, 8], [1, 4, 9, 16]]"
      ]
     },
     "execution_count": 36,
     "metadata": {},
     "output_type": "execute_result"
    }
   ],
   "source": [
    "# QUESTION. What would list_of_lists + list_of_lists give us?\n",
    "list_of_lists + list_of_lists"
   ]
  },
  {
   "cell_type": "code",
   "execution_count": 37,
   "id": "45eeb0a5-890c-4658-8281-c195d10aa76d",
   "metadata": {},
   "outputs": [
    {
     "data": {
      "text/plain": [
       "(2, 4)"
      ]
     },
     "execution_count": 37,
     "metadata": {},
     "output_type": "execute_result"
    }
   ],
   "source": [
    "matrix.shape # 2 rows, 4 columns"
   ]
  },
  {
   "cell_type": "code",
   "execution_count": 38,
   "id": "581ee37e-51ef-4b83-89a4-4a0c244d5a1f",
   "metadata": {},
   "outputs": [
    {
     "name": "stdout",
     "output_type": "stream",
     "text": [
      "1\n",
      "3\n",
      "6\n",
      "10\n"
     ]
    }
   ],
   "source": [
    "for i in vector:\n",
    "    print(i)"
   ]
  },
  {
   "cell_type": "code",
   "execution_count": 39,
   "id": "7ee1d040-da11-4b77-86b3-9137156b5f25",
   "metadata": {},
   "outputs": [
    {
     "name": "stdout",
     "output_type": "stream",
     "text": [
      "2\n",
      "4\n",
      "6\n",
      "8\n",
      "End of row\n",
      "1\n",
      "4\n",
      "9\n",
      "16\n",
      "End of row\n"
     ]
    }
   ],
   "source": [
    "for row in matrix:\n",
    "    for value in row:\n",
    "        print(value)\n",
    "    print('End of row') # QUESTION. What is the type of the variables 'row' and 'value'?\n",
    "                        # row is int from row position, value is int from value in matrix"
   ]
  },
  {
   "cell_type": "code",
   "execution_count": 40,
   "id": "c21f6019-5935-489d-9e29-b6b276fb274f",
   "metadata": {},
   "outputs": [
    {
     "name": "stdout",
     "output_type": "stream",
     "text": [
      "The value at 0,0 is 2\n",
      "The value at 0,1 is 4\n",
      "The value at 0,2 is 6\n",
      "The value at 0,3 is 8\n",
      "The value at 1,0 is 1\n",
      "The value at 1,1 is 4\n",
      "The value at 1,2 is 9\n",
      "The value at 1,3 is 16\n"
     ]
    }
   ],
   "source": [
    "for r in range(2):\n",
    "    for c in range(4):\n",
    "        value = matrix[r,c]\n",
    "        print(f\"The value at {r},{c} is {value}\") # QUESTION. What is the type of the variables 'r' and 'c'?\n",
    "                                                  # r is int from row position, c is int from column position"
   ]
  },
  {
   "cell_type": "code",
   "execution_count": 41,
   "id": "a0b0206d-5bf4-4f3f-8a6c-6638f1f9daef",
   "metadata": {},
   "outputs": [
    {
     "name": "stdout",
     "output_type": "stream",
     "text": [
      "5.0\n",
      "50\n",
      "[ 1.5  4.   7.5 12. ]\n",
      "[5.  7.5]\n"
     ]
    }
   ],
   "source": [
    "# mean average of the values in vector\n",
    "print(np.mean(vector))   \n",
    "# sum of the values in matrix\n",
    "print(np.sum(matrix))    \n",
    "\n",
    "# mean of each column in matrix\n",
    "print(np.mean(matrix, axis=0))\n",
    "# mean of each row in matrix\n",
    "print(np.mean(matrix, axis=1))   "
   ]
  },
  {
   "cell_type": "code",
   "execution_count": 47,
   "id": "3e49fb39-8ec5-4adc-8abf-a651c22729c7",
   "metadata": {},
   "outputs": [
    {
     "name": "stdout",
     "output_type": "stream",
     "text": [
      "[0. 0. 0. 0. 0.]\n",
      "[[0. 0. 0.]\n",
      " [0. 0. 0.]\n",
      " [0. 0. 0.]\n",
      " [0. 0. 0.]\n",
      " [0. 0. 0.]]\n",
      "[[1. 1. 1.]\n",
      " [1. 1. 1.]\n",
      " [1. 1. 1.]\n",
      " [1. 1. 1.]\n",
      " [1. 1. 1.]]\n",
      "[[1. 0. 0.]\n",
      " [0. 1. 0.]\n",
      " [0. 0. 1.]]\n",
      "[[2 2 3]\n",
      " [6 5 3]\n",
      " [3 1 2]\n",
      " [6 5 5]\n",
      " [3 2 3]]\n"
     ]
    }
   ],
   "source": [
    "# A vector of five zeros\n",
    "print(np.zeros(5))\n",
    "# A 5x3 matrix of zeros\n",
    "print(np.zeros([5,3]))\n",
    "\n",
    "# A 5x3 matrix of ones      \n",
    "print(np.ones([5,3]))  \n",
    "# A 3x3 matrix with ones along the diagonal - the \"identity matrix\"\n",
    "print(np.eye(3))      \n",
    "# A 5x3 matrix of random integers between 1 and 6\n",
    "print(np.random.randint(1, 7, [5,3])) "
   ]
  },
  {
   "cell_type": "code",
   "execution_count": 50,
   "id": "5159115a-64e3-484b-841e-36a4100591b8",
   "metadata": {},
   "outputs": [
    {
     "name": "stdout",
     "output_type": "stream",
     "text": [
      "[[7 7 3 1 8]\n",
      " [1 3 7 3 7]\n",
      " [5 1 3 6 5]\n",
      " [9 7 4 5 3]\n",
      " [1 2 9 5 8]]\n",
      "[[6 9 5 5 6]\n",
      " [3 4 2 2 7]\n",
      " [7 1 8 3 2]\n",
      " [3 7 3 6 3]\n",
      " [7 3 8 5 8]]\n",
      "[[13 16  8  6 14]\n",
      " [ 4  7  9  5 14]\n",
      " [12  2 11  9  7]\n",
      " [12 14  7 11  6]\n",
      " [ 8  5 17 10 16]]\n"
     ]
    }
   ],
   "source": [
    "# TASK: Create two random 5x5 matrices, assign them to variables and add them together. \n",
    "rand_matrix1 = np.random.randint(1, 10, [5,5])\n",
    "rand_matrix2 = np.random.randint(1, 10, [5,5])\n",
    "\n",
    "add_matrices = rand_matrix1 + rand_matrix2\n",
    "\n",
    "print(rand_matrix1)\n",
    "print(rand_matrix2)\n",
    "print(add_matrices)"
   ]
  },
  {
   "cell_type": "markdown",
   "id": "38864d5c-2c57-4810-8c46-1cb2a33f8e23",
   "metadata": {},
   "source": [
    "**Pandas**\n",
    "\n",
    "Another library for data anaylsis in general. The name comes from 'Panel Data'. \n",
    "\n",
    "Like how `numpy` introduced the `array` type, `pandas` introduces the `DataFrame` type. "
   ]
  },
  {
   "cell_type": "code",
   "execution_count": 51,
   "id": "6d4753cd-bfde-4a49-8a77-8015609573e3",
   "metadata": {},
   "outputs": [
    {
     "data": {
      "text/html": [
       "<div>\n",
       "<style scoped>\n",
       "    .dataframe tbody tr th:only-of-type {\n",
       "        vertical-align: middle;\n",
       "    }\n",
       "\n",
       "    .dataframe tbody tr th {\n",
       "        vertical-align: top;\n",
       "    }\n",
       "\n",
       "    .dataframe thead th {\n",
       "        text-align: right;\n",
       "    }\n",
       "</style>\n",
       "<table border=\"1\" class=\"dataframe\">\n",
       "  <thead>\n",
       "    <tr style=\"text-align: right;\">\n",
       "      <th></th>\n",
       "      <th>0</th>\n",
       "      <th>1</th>\n",
       "      <th>2</th>\n",
       "      <th>3</th>\n",
       "    </tr>\n",
       "  </thead>\n",
       "  <tbody>\n",
       "    <tr>\n",
       "      <th>0</th>\n",
       "      <td>2</td>\n",
       "      <td>4</td>\n",
       "      <td>6</td>\n",
       "      <td>8</td>\n",
       "    </tr>\n",
       "    <tr>\n",
       "      <th>1</th>\n",
       "      <td>1</td>\n",
       "      <td>4</td>\n",
       "      <td>9</td>\n",
       "      <td>16</td>\n",
       "    </tr>\n",
       "  </tbody>\n",
       "</table>\n",
       "</div>"
      ],
      "text/plain": [
       "   0  1  2   3\n",
       "0  2  4  6   8\n",
       "1  1  4  9  16"
      ]
     },
     "execution_count": 51,
     "metadata": {},
     "output_type": "execute_result"
    }
   ],
   "source": [
    "import pandas as pd\n",
    "\n",
    "df = pd.DataFrame(matrix)\n",
    "df"
   ]
  },
  {
   "cell_type": "markdown",
   "id": "8f8eee56-7fc1-45d1-b933-294be93158f0",
   "metadata": {},
   "source": [
    "Let's add row and colume names."
   ]
  },
  {
   "cell_type": "code",
   "execution_count": 52,
   "id": "f0ceefe5-5db8-44de-b4f1-4109a6d79753",
   "metadata": {},
   "outputs": [
    {
     "data": {
      "text/html": [
       "<div>\n",
       "<style scoped>\n",
       "    .dataframe tbody tr th:only-of-type {\n",
       "        vertical-align: middle;\n",
       "    }\n",
       "\n",
       "    .dataframe tbody tr th {\n",
       "        vertical-align: top;\n",
       "    }\n",
       "\n",
       "    .dataframe thead th {\n",
       "        text-align: right;\n",
       "    }\n",
       "</style>\n",
       "<table border=\"1\" class=\"dataframe\">\n",
       "  <thead>\n",
       "    <tr style=\"text-align: right;\">\n",
       "      <th></th>\n",
       "      <th>1st</th>\n",
       "      <th>2nd</th>\n",
       "      <th>3rd</th>\n",
       "      <th>4th</th>\n",
       "    </tr>\n",
       "  </thead>\n",
       "  <tbody>\n",
       "    <tr>\n",
       "      <th>Powers of 2</th>\n",
       "      <td>2</td>\n",
       "      <td>4</td>\n",
       "      <td>6</td>\n",
       "      <td>8</td>\n",
       "    </tr>\n",
       "    <tr>\n",
       "      <th>Square numbers</th>\n",
       "      <td>1</td>\n",
       "      <td>4</td>\n",
       "      <td>9</td>\n",
       "      <td>16</td>\n",
       "    </tr>\n",
       "  </tbody>\n",
       "</table>\n",
       "</div>"
      ],
      "text/plain": [
       "                1st  2nd  3rd  4th\n",
       "Powers of 2       2    4    6    8\n",
       "Square numbers    1    4    9   16"
      ]
     },
     "execution_count": 52,
     "metadata": {},
     "output_type": "execute_result"
    }
   ],
   "source": [
    "df.columns = ['1st', '2nd', '3rd', '4th']     # Assign a list to the column names\n",
    "df.index = ['Powers of 2', 'Square numbers']  # Assign a list to the row names\n",
    "\n",
    "df"
   ]
  },
  {
   "cell_type": "code",
   "execution_count": 53,
   "id": "dcdae7a1-51d6-4f70-bee1-b2dfd49ad0f9",
   "metadata": {},
   "outputs": [
    {
     "data": {
      "text/html": [
       "<div>\n",
       "<style scoped>\n",
       "    .dataframe tbody tr th:only-of-type {\n",
       "        vertical-align: middle;\n",
       "    }\n",
       "\n",
       "    .dataframe tbody tr th {\n",
       "        vertical-align: top;\n",
       "    }\n",
       "\n",
       "    .dataframe thead th {\n",
       "        text-align: right;\n",
       "    }\n",
       "</style>\n",
       "<table border=\"1\" class=\"dataframe\">\n",
       "  <thead>\n",
       "    <tr style=\"text-align: right;\">\n",
       "      <th></th>\n",
       "      <th>Avg distance from sun (million km)</th>\n",
       "      <th>Diameter (km)</th>\n",
       "      <th>Population (millions)</th>\n",
       "      <th>Gravity (G)</th>\n",
       "    </tr>\n",
       "  </thead>\n",
       "  <tbody>\n",
       "    <tr>\n",
       "      <th>Mercury</th>\n",
       "      <td>57.0</td>\n",
       "      <td>4878.0</td>\n",
       "      <td>0.0</td>\n",
       "      <td>0.38</td>\n",
       "    </tr>\n",
       "    <tr>\n",
       "      <th>Venus</th>\n",
       "      <td>108.0</td>\n",
       "      <td>12104.0</td>\n",
       "      <td>0.0</td>\n",
       "      <td>0.90</td>\n",
       "    </tr>\n",
       "    <tr>\n",
       "      <th>Earth</th>\n",
       "      <td>149.0</td>\n",
       "      <td>12756.0</td>\n",
       "      <td>7594.0</td>\n",
       "      <td>1.00</td>\n",
       "    </tr>\n",
       "    <tr>\n",
       "      <th>Mars</th>\n",
       "      <td>227.0</td>\n",
       "      <td>6794.0</td>\n",
       "      <td>0.0</td>\n",
       "      <td>0.38</td>\n",
       "    </tr>\n",
       "  </tbody>\n",
       "</table>\n",
       "</div>"
      ],
      "text/plain": [
       "         Avg distance from sun (million km)  Diameter (km)  \\\n",
       "Mercury                                57.0         4878.0   \n",
       "Venus                                 108.0        12104.0   \n",
       "Earth                                 149.0        12756.0   \n",
       "Mars                                  227.0         6794.0   \n",
       "\n",
       "         Population (millions)  Gravity (G)  \n",
       "Mercury                    0.0         0.38  \n",
       "Venus                      0.0         0.90  \n",
       "Earth                   7594.0         1.00  \n",
       "Mars                       0.0         0.38  "
      ]
     },
     "execution_count": 53,
     "metadata": {},
     "output_type": "execute_result"
    }
   ],
   "source": [
    "planets = ['Mercury', 'Venus', 'Earth', 'Mars']\n",
    "distance = [57, 108, 149, 227]\n",
    "diameter = [4878, 12104, 12756, 6794]\n",
    "gravity = [0.38, 0.9, 1, 0.38]\n",
    "population = [0, 0, 7594, 0]\n",
    "\n",
    "df = pd.DataFrame([distance, diameter, population, gravity]).T\n",
    "\n",
    "df.index = planets\n",
    "df.columns = ['Avg distance from sun (million km)',\n",
    "              'Diameter (km)',\n",
    "              'Population (millions)',\n",
    "              'Gravity (G)']\n",
    "\n",
    "df"
   ]
  },
  {
   "cell_type": "code",
   "execution_count": 54,
   "id": "66f983ff-3eb4-4270-8a74-d8c8b5c195ee",
   "metadata": {},
   "outputs": [
    {
     "data": {
      "text/plain": [
       "Mercury     4878.0\n",
       "Venus      12104.0\n",
       "Earth      12756.0\n",
       "Mars        6794.0\n",
       "Name: Diameter (km), dtype: float64"
      ]
     },
     "execution_count": 54,
     "metadata": {},
     "output_type": "execute_result"
    }
   ],
   "source": [
    "df['Diameter (km)'] # By indexing DataFrames by column names\n",
    "                    # can get data from particular column only"
   ]
  },
  {
   "cell_type": "code",
   "execution_count": 55,
   "id": "5f4cead5-dd89-4058-a958-b8c7e7221b11",
   "metadata": {},
   "outputs": [
    {
     "data": {
      "text/plain": [
       "Mercury     4878.0\n",
       "Venus      12104.0\n",
       "Earth      12756.0\n",
       "Mars        6794.0\n",
       "Name: Diameter (km), dtype: float64"
      ]
     },
     "execution_count": 55,
     "metadata": {},
     "output_type": "execute_result"
    }
   ],
   "source": [
    "# Or can use iloc() method\n",
    "df.iloc[:,1] # instead of col. name, using num. of position"
   ]
  },
  {
   "cell_type": "code",
   "execution_count": 60,
   "id": "9e3ce053-eab8-4758-a347-f836968f267c",
   "metadata": {},
   "outputs": [
    {
     "data": {
      "text/plain": [
       "Mercury     4878.0\n",
       "Venus      12104.0\n",
       "Earth      12756.0\n",
       "Mars        6794.0\n",
       "Name: Diameter (km), dtype: float64"
      ]
     },
     "execution_count": 60,
     "metadata": {},
     "output_type": "execute_result"
    }
   ],
   "source": [
    "# Or can use loc() method\n",
    "df.loc[:, 'Diameter (km)']"
   ]
  },
  {
   "cell_type": "code",
   "execution_count": 61,
   "id": "df8d3c15-c381-4b0f-a6f7-9e46a46a09ef",
   "metadata": {},
   "outputs": [
    {
     "data": {
      "text/plain": [
       "Avg distance from sun (million km)     227.00\n",
       "Diameter (km)                         6794.00\n",
       "Population (millions)                    0.00\n",
       "Gravity (G)                              0.38\n",
       "Name: Mars, dtype: float64"
      ]
     },
     "execution_count": 61,
     "metadata": {},
     "output_type": "execute_result"
    }
   ],
   "source": [
    "# Can indexing by row names\n",
    "df.loc['Mars'] "
   ]
  },
  {
   "cell_type": "code",
   "execution_count": 62,
   "id": "99af4e6a-abc0-4741-8cdd-6b5f8428425a",
   "metadata": {},
   "outputs": [
    {
     "data": {
      "text/html": [
       "<div>\n",
       "<style scoped>\n",
       "    .dataframe tbody tr th:only-of-type {\n",
       "        vertical-align: middle;\n",
       "    }\n",
       "\n",
       "    .dataframe tbody tr th {\n",
       "        vertical-align: top;\n",
       "    }\n",
       "\n",
       "    .dataframe thead th {\n",
       "        text-align: right;\n",
       "    }\n",
       "</style>\n",
       "<table border=\"1\" class=\"dataframe\">\n",
       "  <thead>\n",
       "    <tr style=\"text-align: right;\">\n",
       "      <th></th>\n",
       "      <th>Avg distance from sun (million km)</th>\n",
       "      <th>Diameter (km)</th>\n",
       "      <th>Population (millions)</th>\n",
       "      <th>Gravity (G)</th>\n",
       "    </tr>\n",
       "  </thead>\n",
       "  <tbody>\n",
       "    <tr>\n",
       "      <th>count</th>\n",
       "      <td>4.000000</td>\n",
       "      <td>4.000000</td>\n",
       "      <td>4.0</td>\n",
       "      <td>4.000000</td>\n",
       "    </tr>\n",
       "    <tr>\n",
       "      <th>mean</th>\n",
       "      <td>135.250000</td>\n",
       "      <td>9133.000000</td>\n",
       "      <td>1898.5</td>\n",
       "      <td>0.665000</td>\n",
       "    </tr>\n",
       "    <tr>\n",
       "      <th>std</th>\n",
       "      <td>71.816317</td>\n",
       "      <td>3895.677776</td>\n",
       "      <td>3797.0</td>\n",
       "      <td>0.331612</td>\n",
       "    </tr>\n",
       "    <tr>\n",
       "      <th>min</th>\n",
       "      <td>57.000000</td>\n",
       "      <td>4878.000000</td>\n",
       "      <td>0.0</td>\n",
       "      <td>0.380000</td>\n",
       "    </tr>\n",
       "    <tr>\n",
       "      <th>25%</th>\n",
       "      <td>95.250000</td>\n",
       "      <td>6315.000000</td>\n",
       "      <td>0.0</td>\n",
       "      <td>0.380000</td>\n",
       "    </tr>\n",
       "    <tr>\n",
       "      <th>50%</th>\n",
       "      <td>128.500000</td>\n",
       "      <td>9449.000000</td>\n",
       "      <td>0.0</td>\n",
       "      <td>0.640000</td>\n",
       "    </tr>\n",
       "    <tr>\n",
       "      <th>75%</th>\n",
       "      <td>168.500000</td>\n",
       "      <td>12267.000000</td>\n",
       "      <td>1898.5</td>\n",
       "      <td>0.925000</td>\n",
       "    </tr>\n",
       "    <tr>\n",
       "      <th>max</th>\n",
       "      <td>227.000000</td>\n",
       "      <td>12756.000000</td>\n",
       "      <td>7594.0</td>\n",
       "      <td>1.000000</td>\n",
       "    </tr>\n",
       "  </tbody>\n",
       "</table>\n",
       "</div>"
      ],
      "text/plain": [
       "       Avg distance from sun (million km)  Diameter (km)  \\\n",
       "count                            4.000000       4.000000   \n",
       "mean                           135.250000    9133.000000   \n",
       "std                             71.816317    3895.677776   \n",
       "min                             57.000000    4878.000000   \n",
       "25%                             95.250000    6315.000000   \n",
       "50%                            128.500000    9449.000000   \n",
       "75%                            168.500000   12267.000000   \n",
       "max                            227.000000   12756.000000   \n",
       "\n",
       "       Population (millions)  Gravity (G)  \n",
       "count                    4.0     4.000000  \n",
       "mean                  1898.5     0.665000  \n",
       "std                   3797.0     0.331612  \n",
       "min                      0.0     0.380000  \n",
       "25%                      0.0     0.380000  \n",
       "50%                      0.0     0.640000  \n",
       "75%                   1898.5     0.925000  \n",
       "max                   7594.0     1.000000  "
      ]
     },
     "execution_count": 62,
     "metadata": {},
     "output_type": "execute_result"
    }
   ],
   "source": [
    "df.describe() # Show us averages and quintiles for each column"
   ]
  },
  {
   "cell_type": "code",
   "execution_count": 67,
   "id": "cbf89eed-da68-4494-9972-3984a06ff478",
   "metadata": {},
   "outputs": [
    {
     "data": {
      "text/plain": [
       "<AxesSubplot:>"
      ]
     },
     "execution_count": 67,
     "metadata": {},
     "output_type": "execute_result"
    },
    {
     "data": {
      "image/png": "[encoded data removed]",
      "text/plain": [
       "<Figure size 432x288 with 1 Axes>"
      ]
     },
     "metadata": {
      "needs_background": "light"
     },
     "output_type": "display_data"
    }
   ],
   "source": [
    "%matplotlib inline\n",
    "import matplotlib.pyplot as plt\n",
    "# built in plotting tools, plot()\n",
    "df.plot()"
   ]
  },
  {
   "cell_type": "code",
   "execution_count": 65,
   "id": "85d4cde2-a616-40ce-9dd6-e2b8be791693",
   "metadata": {},
   "outputs": [
    {
     "data": {
      "text/plain": [
       "array([[5.7000e+01, 4.8780e+03, 0.0000e+00, 3.8000e-01],\n",
       "       [1.0800e+02, 1.2104e+04, 0.0000e+00, 9.0000e-01],\n",
       "       [1.4900e+02, 1.2756e+04, 7.5940e+03, 1.0000e+00],\n",
       "       [2.2700e+02, 6.7940e+03, 0.0000e+00, 3.8000e-01]])"
      ]
     },
     "execution_count": 65,
     "metadata": {},
     "output_type": "execute_result"
    }
   ],
   "source": [
    "df.values"
   ]
  },
  {
   "cell_type": "code",
   "execution_count": 69,
   "id": "da5803ac-baea-4a66-86f9-5718fcbc0fed",
   "metadata": {},
   "outputs": [
    {
     "data": {
      "text/html": [
       "<div>\n",
       "<style scoped>\n",
       "    .dataframe tbody tr th:only-of-type {\n",
       "        vertical-align: middle;\n",
       "    }\n",
       "\n",
       "    .dataframe tbody tr th {\n",
       "        vertical-align: top;\n",
       "    }\n",
       "\n",
       "    .dataframe thead th {\n",
       "        text-align: right;\n",
       "    }\n",
       "</style>\n",
       "<table border=\"1\" class=\"dataframe\">\n",
       "  <thead>\n",
       "    <tr style=\"text-align: right;\">\n",
       "      <th></th>\n",
       "      <th>Avg distance from sun (million km)</th>\n",
       "      <th>Diameter (km)</th>\n",
       "      <th>Population (millions)</th>\n",
       "      <th>Gravity (G)</th>\n",
       "    </tr>\n",
       "  </thead>\n",
       "  <tbody>\n",
       "    <tr>\n",
       "      <th>Mercury</th>\n",
       "      <td>57.0</td>\n",
       "      <td>4878.0</td>\n",
       "      <td>0.0</td>\n",
       "      <td>0.38</td>\n",
       "    </tr>\n",
       "    <tr>\n",
       "      <th>Earth</th>\n",
       "      <td>149.0</td>\n",
       "      <td>12756.0</td>\n",
       "      <td>7594.0</td>\n",
       "      <td>1.00</td>\n",
       "    </tr>\n",
       "  </tbody>\n",
       "</table>\n",
       "</div>"
      ],
      "text/plain": [
       "         Avg distance from sun (million km)  Diameter (km)  \\\n",
       "Mercury                                57.0         4878.0   \n",
       "Earth                                 149.0        12756.0   \n",
       "\n",
       "         Population (millions)  Gravity (G)  \n",
       "Mercury                    0.0         0.38  \n",
       "Earth                   7594.0         1.00  "
      ]
     },
     "execution_count": 69,
     "metadata": {},
     "output_type": "execute_result"
    }
   ],
   "source": [
    "# Can also filter by booleans\n",
    "df[[True, False, True, False]] # Only returns the rows that are True"
   ]
  },
  {
   "cell_type": "code",
   "execution_count": 70,
   "id": "57a543dd-96e1-42b9-b912-6cb769c70016",
   "metadata": {},
   "outputs": [
    {
     "data": {
      "text/plain": [
       "Mercury    False\n",
       "Venus       True\n",
       "Earth       True\n",
       "Mars       False\n",
       "Name: Diameter (km), dtype: bool"
      ]
     },
     "execution_count": 70,
     "metadata": {},
     "output_type": "execute_result"
    }
   ],
   "source": [
    "# Can also create boolean vectors by doing a comparison on a pandas column:\n",
    "large = df['Diameter (km)'] > 10000    # is True for planets with diameter > 10km\n",
    "\n",
    "large"
   ]
  },
  {
   "cell_type": "code",
   "execution_count": 71,
   "id": "12c01d6b-3e26-4f1d-9956-1e901f92d835",
   "metadata": {},
   "outputs": [
    {
     "data": {
      "text/html": [
       "<div>\n",
       "<style scoped>\n",
       "    .dataframe tbody tr th:only-of-type {\n",
       "        vertical-align: middle;\n",
       "    }\n",
       "\n",
       "    .dataframe tbody tr th {\n",
       "        vertical-align: top;\n",
       "    }\n",
       "\n",
       "    .dataframe thead th {\n",
       "        text-align: right;\n",
       "    }\n",
       "</style>\n",
       "<table border=\"1\" class=\"dataframe\">\n",
       "  <thead>\n",
       "    <tr style=\"text-align: right;\">\n",
       "      <th></th>\n",
       "      <th>Avg distance from sun (million km)</th>\n",
       "      <th>Diameter (km)</th>\n",
       "      <th>Population (millions)</th>\n",
       "      <th>Gravity (G)</th>\n",
       "    </tr>\n",
       "  </thead>\n",
       "  <tbody>\n",
       "    <tr>\n",
       "      <th>Venus</th>\n",
       "      <td>108.0</td>\n",
       "      <td>12104.0</td>\n",
       "      <td>0.0</td>\n",
       "      <td>0.9</td>\n",
       "    </tr>\n",
       "    <tr>\n",
       "      <th>Earth</th>\n",
       "      <td>149.0</td>\n",
       "      <td>12756.0</td>\n",
       "      <td>7594.0</td>\n",
       "      <td>1.0</td>\n",
       "    </tr>\n",
       "  </tbody>\n",
       "</table>\n",
       "</div>"
      ],
      "text/plain": [
       "       Avg distance from sun (million km)  Diameter (km)  \\\n",
       "Venus                               108.0        12104.0   \n",
       "Earth                               149.0        12756.0   \n",
       "\n",
       "       Population (millions)  Gravity (G)  \n",
       "Venus                    0.0          0.9  \n",
       "Earth                 7594.0          1.0  "
      ]
     },
     "execution_count": 71,
     "metadata": {},
     "output_type": "execute_result"
    }
   ],
   "source": [
    "# Can index by this, getting all the data for large planets:\n",
    "df[large]"
   ]
  },
  {
   "cell_type": "code",
   "execution_count": 73,
   "id": "d4837c97-a16b-422f-a314-875d13c0d2df",
   "metadata": {},
   "outputs": [
    {
     "data": {
      "text/html": [
       "<div>\n",
       "<style scoped>\n",
       "    .dataframe tbody tr th:only-of-type {\n",
       "        vertical-align: middle;\n",
       "    }\n",
       "\n",
       "    .dataframe tbody tr th {\n",
       "        vertical-align: top;\n",
       "    }\n",
       "\n",
       "    .dataframe thead th {\n",
       "        text-align: right;\n",
       "    }\n",
       "</style>\n",
       "<table border=\"1\" class=\"dataframe\">\n",
       "  <thead>\n",
       "    <tr style=\"text-align: right;\">\n",
       "      <th></th>\n",
       "      <th>Avg distance from sun (million km)</th>\n",
       "      <th>Diameter (km)</th>\n",
       "      <th>Population (millions)</th>\n",
       "      <th>Gravity (G)</th>\n",
       "    </tr>\n",
       "  </thead>\n",
       "  <tbody>\n",
       "    <tr>\n",
       "      <th>Venus</th>\n",
       "      <td>108.0</td>\n",
       "      <td>12104.0</td>\n",
       "      <td>0.0</td>\n",
       "      <td>0.90</td>\n",
       "    </tr>\n",
       "    <tr>\n",
       "      <th>Earth</th>\n",
       "      <td>149.0</td>\n",
       "      <td>12756.0</td>\n",
       "      <td>7594.0</td>\n",
       "      <td>1.00</td>\n",
       "    </tr>\n",
       "    <tr>\n",
       "      <th>Mars</th>\n",
       "      <td>227.0</td>\n",
       "      <td>6794.0</td>\n",
       "      <td>0.0</td>\n",
       "      <td>0.38</td>\n",
       "    </tr>\n",
       "  </tbody>\n",
       "</table>\n",
       "</div>"
      ],
      "text/plain": [
       "       Avg distance from sun (million km)  Diameter (km)  \\\n",
       "Venus                               108.0        12104.0   \n",
       "Earth                               149.0        12756.0   \n",
       "Mars                                227.0         6794.0   \n",
       "\n",
       "       Population (millions)  Gravity (G)  \n",
       "Venus                    0.0         0.90  \n",
       "Earth                 7594.0         1.00  \n",
       "Mars                     0.0         0.38  "
      ]
     },
     "execution_count": 73,
     "metadata": {},
     "output_type": "execute_result"
    }
   ],
   "source": [
    "# TASK: Write some code to view the rows corresponding only to\n",
    "# planets more than 100 million km from the sun\n",
    "\n",
    "more_than_100M = df['Avg distance from sun (million km)'] > 100\n",
    "df[more_than_100M]"
   ]
  },
  {
   "cell_type": "code",
   "execution_count": 77,
   "id": "72b18c21-3f5c-4bb0-9d08-7e474ad0066f",
   "metadata": {},
   "outputs": [
    {
     "data": {
      "text/html": [
       "<div>\n",
       "<style scoped>\n",
       "    .dataframe tbody tr th:only-of-type {\n",
       "        vertical-align: middle;\n",
       "    }\n",
       "\n",
       "    .dataframe tbody tr th {\n",
       "        vertical-align: top;\n",
       "    }\n",
       "\n",
       "    .dataframe thead th {\n",
       "        text-align: right;\n",
       "    }\n",
       "</style>\n",
       "<table border=\"1\" class=\"dataframe\">\n",
       "  <thead>\n",
       "    <tr style=\"text-align: right;\">\n",
       "      <th></th>\n",
       "      <th>Avg distance from sun (million km)</th>\n",
       "      <th>Diameter (km)</th>\n",
       "      <th>Population (millions)</th>\n",
       "      <th>Gravity (G)</th>\n",
       "    </tr>\n",
       "  </thead>\n",
       "  <tbody>\n",
       "    <tr>\n",
       "      <th>Earth</th>\n",
       "      <td>149.0</td>\n",
       "      <td>12756.0</td>\n",
       "      <td>7594.0</td>\n",
       "      <td>1.00</td>\n",
       "    </tr>\n",
       "    <tr>\n",
       "      <th>Venus</th>\n",
       "      <td>108.0</td>\n",
       "      <td>12104.0</td>\n",
       "      <td>0.0</td>\n",
       "      <td>0.90</td>\n",
       "    </tr>\n",
       "    <tr>\n",
       "      <th>Mars</th>\n",
       "      <td>227.0</td>\n",
       "      <td>6794.0</td>\n",
       "      <td>0.0</td>\n",
       "      <td>0.38</td>\n",
       "    </tr>\n",
       "    <tr>\n",
       "      <th>Mercury</th>\n",
       "      <td>57.0</td>\n",
       "      <td>4878.0</td>\n",
       "      <td>0.0</td>\n",
       "      <td>0.38</td>\n",
       "    </tr>\n",
       "  </tbody>\n",
       "</table>\n",
       "</div>"
      ],
      "text/plain": [
       "         Avg distance from sun (million km)  Diameter (km)  \\\n",
       "Earth                                 149.0        12756.0   \n",
       "Venus                                 108.0        12104.0   \n",
       "Mars                                  227.0         6794.0   \n",
       "Mercury                                57.0         4878.0   \n",
       "\n",
       "         Population (millions)  Gravity (G)  \n",
       "Earth                   7594.0         1.00  \n",
       "Venus                      0.0         0.90  \n",
       "Mars                       0.0         0.38  \n",
       "Mercury                    0.0         0.38  "
      ]
     },
     "execution_count": 77,
     "metadata": {},
     "output_type": "execute_result"
    }
   ],
   "source": [
    "# TASK: Check the documentation for pandas\n",
    "# and try to rearrange the dataframe to have\n",
    "# planets in decreasing order of size\n",
    "\n",
    "by_size = df.sort_values(by=['Diameter (km)'], ascending=False) # Sort Descending\n",
    "by_size"
   ]
  },
  {
   "cell_type": "code",
   "execution_count": 94,
   "id": "eff43305-6875-4672-8e1f-5c9f2eb7feb8",
   "metadata": {},
   "outputs": [
    {
     "data": {
      "text/plain": [
       "'Mercury'"
      ]
     },
     "execution_count": 94,
     "metadata": {},
     "output_type": "execute_result"
    }
   ],
   "source": [
    "# TASK: check the documentation for pandas\n",
    "# and find a way to get the planet with the lowest gravity\n",
    "lowest_gravity = df['Gravity (G)'].idxmin()\n",
    "lowest_gravity"
   ]
  }
 ],
 "metadata": {
  "kernelspec": {
   "display_name": "Python 3.9.6 [python/3.9.6]",
   "language": "python",
   "name": "sys_python396"
  },
  "language_info": {
   "codemirror_mode": {
    "name": "ipython",
    "version": 3
   },
   "file_extension": ".py",
   "mimetype": "text/x-python",
   "name": "python",
   "nbconvert_exporter": "python",
   "pygments_lexer": "ipython3",
   "version": "3.9.6"
  }
 },
 "nbformat": 4,
 "nbformat_minor": 5
}
