{
 "cells": [
  {
   "cell_type": "markdown",
   "id": "1f46c2b5-5c1b-4eba-8d67-2e55240f7f27",
   "metadata": {},
   "source": [
    "# M3. Statistical Machine Learning & Data Analytics\n",
    "---"
   ]
  },
  {
   "cell_type": "markdown",
   "id": "c778adb1-c78e-498c-a169-2a0662564503",
   "metadata": {},
   "source": [
    "### Python Refresher\n",
    "Start to refresh Python for module M3. Statistical Machine Learning & Data Analytics."
   ]
  },
  {
   "cell_type": "markdown",
   "id": "d5c1bbcd-c443-455e-a631-6ef44da0e728",
   "metadata": {
    "tags": []
   },
   "source": [
    "**Basic variables and Assingment**\n",
    "\n",
    "\"Variables\" are pieces of data that can be given names and re-used in programming. \n",
    "\n",
    "The equals sign indicates \"Assignment\".\n",
    "Whatever value is on the right gets assigned to the variable name on the left. "
   ]
  },
  {
   "cell_type": "code",
   "execution_count": 12,
   "id": "7cf56bf1-3532-430f-b3a4-e504e96938a9",
   "metadata": {
    "tags": []
   },
   "outputs": [
    {
     "data": {
      "text/plain": [
       "15"
      ]
     },
     "execution_count": 12,
     "metadata": {},
     "output_type": "execute_result"
    }
   ],
   "source": [
    "# 'a' and 'b' are the names of variables\n",
    "# And we assign them as number 5 and 10 respectively.\n",
    "a = 5\n",
    "b = 10\n",
    "\n",
    "# We can re-use these variable names to refer to what they are storing,\n",
    "# like with this addition, which is equivalent to writing 5 + 10:\n",
    "a + b"
   ]
  },
  {
   "cell_type": "code",
   "execution_count": 13,
   "id": "82b6136f-39c9-47c2-a001-bce422a20750",
   "metadata": {},
   "outputs": [],
   "source": [
    "# In programming, we can re-assign variables.\n",
    "a = 20\n",
    "\n",
    "c = a+b # QUESTION. What is c now?\n",
    "        # Expected. 30"
   ]
  },
  {
   "cell_type": "code",
   "execution_count": 14,
   "id": "d5cd53e9-2c9a-4ff7-9eca-da9ec346074f",
   "metadata": {},
   "outputs": [
    {
     "data": {
      "text/plain": [
       "30"
      ]
     },
     "execution_count": 14,
     "metadata": {},
     "output_type": "execute_result"
    }
   ],
   "source": [
    "c # Answer. 30"
   ]
  },
  {
   "cell_type": "markdown",
   "id": "c0bdd2d5-d7aa-4976-a4b6-724cee9d43fd",
   "metadata": {
    "tags": []
   },
   "source": [
    "**Elementary Data Types**\n",
    "\n",
    "In Python, the most common elementary types are : integers, floats, strings and booleans."
   ]
  },
  {
   "cell_type": "markdown",
   "id": "4bf2a9ef-013f-45a7-bc0c-e0e4f59cc7f2",
   "metadata": {},
   "source": [
    "> Integers "
   ]
  },
  {
   "cell_type": "code",
   "execution_count": 15,
   "id": "552cafc5-66e8-4482-9f5f-55f4585a3d1c",
   "metadata": {},
   "outputs": [],
   "source": [
    "# integers, or 'ints', are ...-2, -1, 0, 1, 2, ...:\n",
    "\n",
    "a = 5\n",
    "b = 3\n",
    "c = -40\n",
    "\n",
    "# We can do basic mathematical operations with them, \n",
    "# like we've seen with addition. but also:\n",
    "\n",
    "mult = a * b   # multiplication\n",
    "div  = c / a   # division\n",
    "expo = a ** b  # exponentiation\n",
    "               # they can also be used for indexing, which we'll see later.\n",
    "\n",
    "# QUESTION: What is the value of expo?\n",
    "# Expected. 125 "
   ]
  },
  {
   "cell_type": "code",
   "execution_count": 16,
   "id": "fb5b6fdf-e4b8-4a80-9fe3-4100e70b53a1",
   "metadata": {},
   "outputs": [
    {
     "data": {
      "text/plain": [
       "125"
      ]
     },
     "execution_count": 16,
     "metadata": {},
     "output_type": "execute_result"
    }
   ],
   "source": [
    "expo # Answer. 125"
   ]
  },
  {
   "cell_type": "markdown",
   "id": "54c62bce-10e2-4812-8ddc-86f656641656",
   "metadata": {},
   "source": [
    "> Floats"
   ]
  },
  {
   "cell_type": "code",
   "execution_count": 17,
   "id": "4fc59b23-1477-4fea-b438-22e6094d9eb1",
   "metadata": {},
   "outputs": [
    {
     "data": {
      "text/plain": [
       "13.5"
      ]
     },
     "execution_count": 17,
     "metadata": {},
     "output_type": "execute_result"
    }
   ],
   "source": [
    "# floating point number, or 'floats', are real numbers:\n",
    "\n",
    "x = 2.7\n",
    "y = -6.9\n",
    "z = 5.0  # note that, while a whole number, this is still a float because it has a decimal point\n",
    "\n",
    "# floats can do most of the stuff that ints can,\n",
    "# extended into real numbers with decimal places,\n",
    "# but using all the same mathematical operations:\n",
    "\n",
    "x * z"
   ]
  },
  {
   "cell_type": "code",
   "execution_count": 18,
   "id": "57f03a89-2670-4922-ad04-bb26bfce1b35",
   "metadata": {},
   "outputs": [
    {
     "data": {
      "text/plain": [
       "float"
      ]
     },
     "execution_count": 18,
     "metadata": {},
     "output_type": "execute_result"
    }
   ],
   "source": [
    "# TASK: Try multiplying a float by an int.\n",
    "# QUESTION. What's the type of the result?\n",
    "# Expected. float\n",
    "\n",
    "type(a*x) # Answer. float"
   ]
  },
  {
   "cell_type": "markdown",
   "id": "844b4ae5-57ff-4cf5-b747-e9bdca37b07a",
   "metadata": {},
   "source": [
    "<u>Limitation of floats</u>\n",
    "\n",
    "As they're represented on computer hardware, it looks a little stranges in code. \n",
    "\n",
    "For example, when we divided -6.9 by 5.0, the result should be exactly -1.38. But due to imprecision in the hardware, it's just very close to -1.38. "
   ]
  },
  {
   "cell_type": "code",
   "execution_count": 19,
   "id": "4fe809d0-83ab-4dc1-a2a8-ba17523cf083",
   "metadata": {},
   "outputs": [
    {
     "data": {
      "text/plain": [
       "-1.3800000000000001"
      ]
     },
     "execution_count": 19,
     "metadata": {},
     "output_type": "execute_result"
    }
   ],
   "source": [
    "y / z"
   ]
  },
  {
   "cell_type": "markdown",
   "id": "0fbb1506-b6c1-4e7b-bf09-0a555de98cdf",
   "metadata": {},
   "source": [
    "> Strings"
   ]
  },
  {
   "cell_type": "code",
   "execution_count": 25,
   "id": "d86d2748-4706-4c21-b019-fa3c647d4059",
   "metadata": {},
   "outputs": [
    {
     "data": {
      "text/plain": [
       "'Once upon a midnight dreary, \\nwhile I pondered, weak and weary,\\nover many a quaint and curious \\nvolume of forgotten lore...'"
      ]
     },
     "execution_count": 25,
     "metadata": {},
     "output_type": "execute_result"
    }
   ],
   "source": [
    "# Python lets you write strings using 'single' or \"double\" quotes:\n",
    "\n",
    "my_name = 'Andrey'\n",
    "favourite_drink = \"Coffee\" \n",
    "my_age = '30' # note that though this variable contains only a number,\n",
    "              # it's still a string-type because of the \"quotes\"\n",
    "\n",
    "# unlike variable names, strings can include any character:\n",
    "my_name_in_russian = 'Андрей'\n",
    "my_name_in_chinese = '安德烈'\n",
    "\n",
    "# To make a long string that can be broken up across lines\n",
    "# you can also use triple quote marks like this\n",
    "long_string = '''Once upon a midnight dreary, \n",
    "while I pondered, weak and weary,\n",
    "over many a quaint and curious \n",
    "volume of forgotten lore...''' \n",
    "\n",
    "long_string"
   ]
  },
  {
   "cell_type": "code",
   "execution_count": 28,
   "id": "1a4b7125-b9e8-4c99-93ce-9b6313abbe8b",
   "metadata": {},
   "outputs": [
    {
     "data": {
      "text/plain": [
       "'My name is Eunji and I like Baking'"
      ]
     },
     "execution_count": 28,
     "metadata": {},
     "output_type": "execute_result"
    }
   ],
   "source": [
    "# if you want to type a string that uses single or double quotes inside it,\n",
    "# you can just define the string using the other type\n",
    "\n",
    "question = \"Where'd you get that poem?\"\n",
    "answer = 'Something called \"Google\"'\n",
    "\n",
    "# TASK: assign some strings into these variables:\n",
    "your_name = \"Eunji\"\n",
    "a_thing_you_like = \"Baking\"\n",
    "# if you leave them empty you'll get an error!\n",
    "\n",
    "\n",
    "# some mathematical operations work on strings, too. for example you can add them:\n",
    "\n",
    "\"My name is \" + your_name + \" and I like \" + a_thing_you_like"
   ]
  },
  {
   "cell_type": "markdown",
   "id": "e75248ac-3939-47d6-9104-55e617194757",
   "metadata": {},
   "source": [
    "> Booleans"
   ]
  },
  {
   "cell_type": "code",
   "execution_count": 32,
   "id": "b56f13e3-9430-4353-9b6c-94d45786f356",
   "metadata": {},
   "outputs": [
    {
     "data": {
      "text/plain": [
       "False"
      ]
     },
     "execution_count": 32,
     "metadata": {},
     "output_type": "execute_result"
    }
   ],
   "source": [
    "# booleans, or 'bools' are the simplest type.\n",
    "# They have two possible values: True / False\n",
    "\n",
    "andrey_enjoys_coffee = True\n",
    "andrey_enjoys_lockdown = False\n",
    "\n",
    "# Use the word 'not' to get the opposite of a bool:\n",
    "andrey_hates_coffee = not andrey_enjoys_coffee\n",
    "andrey_hates_coffee"
   ]
  },
  {
   "cell_type": "code",
   "execution_count": 33,
   "id": "a4cd287d-9551-4c2c-9607-4830c6e66e0d",
   "metadata": {},
   "outputs": [
    {
     "data": {
      "text/plain": [
       "2"
      ]
     },
     "execution_count": 33,
     "metadata": {},
     "output_type": "execute_result"
    }
   ],
   "source": [
    "# they're represented in python internally as 0 (False) and 1 (True), \n",
    "# so you can do some strange things like add them:\n",
    "\n",
    "andrey_enjoys_coffee + andrey_enjoys_coffee"
   ]
  },
  {
   "cell_type": "markdown",
   "id": "fd2ed532-5fae-4809-b651-4dbf7bc5be06",
   "metadata": {},
   "source": [
    "**Basic Operators**\n",
    "\n",
    "We've seen some simple arithmetic operations, like `+` (addition), `-` (subtraction), `*` (multiplication) and `/` (division). We've also seen the arithmetic operator `**` (exponentiation), which might be useful.\n",
    "\n",
    "Apart from that, we've seen the assignment operator `=`. There's another one that looks similar but works very differently: the equality operator `==`."
   ]
  },
  {
   "cell_type": "code",
   "execution_count": 35,
   "id": "6fb11a3e-4175-49d0-b986-b9f1e809e2b2",
   "metadata": {},
   "outputs": [
    {
     "data": {
      "text/plain": [
       "True"
      ]
     },
     "execution_count": 35,
     "metadata": {},
     "output_type": "execute_result"
    }
   ],
   "source": [
    "# The equality comparison always returns a boolean.\n",
    "# 'True' if the two values being compared are equal.\n",
    "# 'False' if they aren't.\n",
    "\n",
    "5 == 5"
   ]
  },
  {
   "cell_type": "code",
   "execution_count": 36,
   "id": "382d608e-f591-4cca-a65e-fd809e28d508",
   "metadata": {},
   "outputs": [
    {
     "data": {
      "text/plain": [
       "False"
      ]
     },
     "execution_count": 36,
     "metadata": {},
     "output_type": "execute_result"
    }
   ],
   "source": [
    "a = 8\n",
    "b = 16\n",
    "\n",
    "a == b "
   ]
  },
  {
   "cell_type": "code",
   "execution_count": 38,
   "id": "c45efbb7-5f01-4d7d-adfd-84fa14a04826",
   "metadata": {},
   "outputs": [
    {
     "data": {
      "text/plain": [
       "16"
      ]
     },
     "execution_count": 38,
     "metadata": {},
     "output_type": "execute_result"
    }
   ],
   "source": [
    "# QUESTION. What does this do instead?\n",
    "# Expected. The value of b will be assigned to variable 'a'.\n",
    "#           In other words, variable 'a' becomes same as b.\n",
    "a = b\n",
    "a"
   ]
  },
  {
   "cell_type": "code",
   "execution_count": 39,
   "id": "a12d4c98-deb7-438f-8797-b0df34f77619",
   "metadata": {},
   "outputs": [
    {
     "data": {
      "text/plain": [
       "False"
      ]
     },
     "execution_count": 39,
     "metadata": {},
     "output_type": "execute_result"
    }
   ],
   "source": [
    "c = 5\n",
    "d = 50\n",
    "\n",
    "# There are other comparison operators, like:\n",
    "c > d   # Is 'c' greater than 'd'?"
   ]
  },
  {
   "cell_type": "code",
   "execution_count": 40,
   "id": "df064141-f9ea-4b21-89e7-87a049ed5cdc",
   "metadata": {},
   "outputs": [
    {
     "data": {
      "text/plain": [
       "True"
      ]
     },
     "execution_count": 40,
     "metadata": {},
     "output_type": "execute_result"
    }
   ],
   "source": [
    "c < d   # Is 'c' less than 'd'?"
   ]
  },
  {
   "cell_type": "code",
   "execution_count": 41,
   "id": "e3e035a8-c7d2-4ab1-9b61-0b1252367e6a",
   "metadata": {},
   "outputs": [
    {
     "data": {
      "text/plain": [
       "True"
      ]
     },
     "execution_count": 41,
     "metadata": {},
     "output_type": "execute_result"
    }
   ],
   "source": [
    "c != d   # Is 'c' not equal to 'd'?"
   ]
  },
  {
   "cell_type": "code",
   "execution_count": 42,
   "id": "1d5f066b-7f6e-478f-9ff0-b4935d991c32",
   "metadata": {},
   "outputs": [
    {
     "data": {
      "text/plain": [
       "True"
      ]
     },
     "execution_count": 42,
     "metadata": {},
     "output_type": "execute_result"
    }
   ],
   "source": [
    "# QUESTION. Can you guess what this one does?\n",
    "# Expected. Check 'Is 'a' is grater than or equal to 'b'?'\n",
    "#           As 'a' is equal to 'b', it will return 'True'. \n",
    "a >= b"
   ]
  },
  {
   "cell_type": "code",
   "execution_count": 43,
   "id": "78253835-e64d-4935-bcd1-ca5ca34d7adb",
   "metadata": {},
   "outputs": [
    {
     "data": {
      "text/plain": [
       "12"
      ]
     },
     "execution_count": 43,
     "metadata": {},
     "output_type": "execute_result"
    }
   ],
   "source": [
    "# There's this \"increment\" operator, which works a bit like assignment\n",
    "# but changes the value instead:\n",
    "e = 10\n",
    "e += 2    # sets 'e' to 'e+2'\n",
    "\n",
    "e"
   ]
  },
  {
   "cell_type": "code",
   "execution_count": 46,
   "id": "4b4e26d4-dd56-42b6-8858-1ac61ef105b2",
   "metadata": {},
   "outputs": [
    {
     "data": {
      "text/plain": [
       "False"
      ]
     },
     "execution_count": 46,
     "metadata": {},
     "output_type": "execute_result"
    }
   ],
   "source": [
    "# QUESTION. What does this return, and why?\n",
    "# Expected. False because the remainder 10 % 4 == 2.\n",
    "10 % 4 == 0"
   ]
  },
  {
   "cell_type": "markdown",
   "id": "d18f2f37-e3e9-4d70-b5e3-642c9101dd9a",
   "metadata": {},
   "source": [
    "**Data Structures**\n",
    "\n",
    "To store more than one piece of data, there are also compound data types that you can think of as 'data structures'. The most common of these in Python are *lists* and *dicts*, but strings can be considered one of these as well. "
   ]
  },
  {
   "cell_type": "markdown",
   "id": "18379835-2f55-42d4-b748-27b566dca153",
   "metadata": {},
   "source": [
    "> Lists\n",
    "\n",
    "&emsp;&emsp; Can include items of any data types\n",
    "\n",
    "&emsp;&emsp; Can be empty\n",
    "\n",
    "&emsp;&emsp; Can contain variables / mix types freely"
   ]
  },
  {
   "cell_type": "code",
   "execution_count": 51,
   "id": "2bfc6d4f-a6b7-44a2-92bc-0492a8eb3c1f",
   "metadata": {},
   "outputs": [
    {
     "data": {
      "text/plain": [
       "[2, 3, 5, 7, 9, 'New York', 'Mexico', 'Venice', 'St. Moritz']"
      ]
     },
     "execution_count": 51,
     "metadata": {},
     "output_type": "execute_result"
    }
   ],
   "source": [
    "# lists are declared using square brackets and separated by commas:\n",
    "prime_numbers = [2, 3, 5, 7, 9] \n",
    "\n",
    "# Can include items of any data type\n",
    "places = ['New York', 'Mexico', 'Venice', 'St. Moritz'] \n",
    "\n",
    "# Can be empty:\n",
    "empty_list = []\n",
    "\n",
    "# Can contain variables:\n",
    "variables = [a, b, c, d]\n",
    "\n",
    "# Can mix types freely\n",
    "stuff = [721.5, False, 'real ale', andrey_enjoys_coffee, -999] \n",
    "\n",
    "# Also can add lists together, which concatenates them:\n",
    "prime_numbers + places"
   ]
  },
  {
   "cell_type": "markdown",
   "id": "4271de11-b275-41b7-b18f-cedfc998b16c",
   "metadata": {},
   "source": [
    "> Dictionary\n",
    "\n",
    "&emsp;&emsp; Used to store information as key-value pairs"
   ]
  },
  {
   "cell_type": "code",
   "execution_count": 55,
   "id": "9b863c3f-0e86-40b9-99fd-88af66052d7e",
   "metadata": {},
   "outputs": [],
   "source": [
    "# the general pattern for a dict is:\n",
    "# dict = {key1: value1, key2: value2}\n",
    "# and so on.\n",
    "\n",
    "legs = {'cat': 4, \n",
    "        'dog': 4, \n",
    "        'chicken': 2, \n",
    "        'spider': 8}\n"
   ]
  },
  {
   "cell_type": "markdown",
   "id": "3069cb6d-ef47-40c4-98d5-ba5595215346",
   "metadata": {},
   "source": [
    "**Indexing**\n",
    "\n",
    "To get data out of a Data structure, we usually need to do something called 'indexing'. In Python, indices start from *Zero*. So the first item is [0], the second item is [1] and so on. "
   ]
  },
  {
   "cell_type": "code",
   "execution_count": 58,
   "id": "76f683c3-415c-4fcd-9041-c5b3ae5e082e",
   "metadata": {},
   "outputs": [
    {
     "data": {
      "text/plain": [
       "['Mercury', 'Venus']"
      ]
     },
     "execution_count": 58,
     "metadata": {},
     "output_type": "execute_result"
    }
   ],
   "source": [
    "planets = ['Mercury', 'Venus', 'Earth', 'Mars']\n",
    "\n",
    "# indexing uses square brackets followed by an integer, indicating which item to access:\n",
    "planets[0] # gives us 'Mercury'\n",
    "planets[2] # gives us 'Earth'\n",
    "\n",
    "# Also can index negatively, starting from the end:\n",
    "planets[-1] # gives us 'Mars'\n",
    "\n",
    "# Can also index ranges, using this start:end range notation\n",
    "# Note that start:end includes the start index but excludes the end\n",
    "planets[0:2] # gives us ['Mercury', 'Venus']"
   ]
  },
  {
   "cell_type": "code",
   "execution_count": 59,
   "id": "8b4559f0-e7ea-4501-afa1-152b1ae25ab3",
   "metadata": {},
   "outputs": [],
   "source": [
    "# QUESTION. Why doesn't this work?\n",
    "#planets[1.0] # Because index in list must be integers or slices"
   ]
  },
  {
   "cell_type": "code",
   "execution_count": 60,
   "id": "271f98ac-cd81-4f2b-a04b-59eacb03f976",
   "metadata": {},
   "outputs": [
    {
     "data": {
      "text/plain": [
       "2"
      ]
     },
     "execution_count": 60,
     "metadata": {},
     "output_type": "execute_result"
    }
   ],
   "source": [
    "# instead of indexing using integers, you can index by whatever the keys in the Dict are:\n",
    "\n",
    "# QUESTION. How many legs a chicken has\n",
    "# Expected. 2\n",
    "legs['chicken']"
   ]
  },
  {
   "cell_type": "code",
   "execution_count": 63,
   "id": "aa8beba4-3125-4b78-8cbc-f731b9457fa6",
   "metadata": {},
   "outputs": [
    {
     "data": {
      "text/plain": [
       "{'cat': 4, 'dog': 4, 'chicken': 2, 'spider': 8, 'centipede': 100}"
      ]
     },
     "execution_count": 63,
     "metadata": {},
     "output_type": "execute_result"
    }
   ],
   "source": [
    "# we can also use indexing to assign or re-assign new values\n",
    "planets[2] = 'Cool Venus'    # QUESTION. Which item has this replaced?\n",
    "                             # Expected. 'Earth' will be changed into 'Cool Venus'\n",
    "legs['centipede'] = 100      # QUESTION: which item has this replaced?\n",
    "                             # Expected. Add new pair of data, 'centipede':100, in legs\n",
    "planets\n",
    "legs"
   ]
  },
  {
   "cell_type": "code",
   "execution_count": 66,
   "id": "e60e7236-7b80-4163-babf-a08c8c9030c7",
   "metadata": {},
   "outputs": [
    {
     "data": {
      "text/plain": [
       "'e'"
      ]
     },
     "execution_count": 66,
     "metadata": {},
     "output_type": "execute_result"
    }
   ],
   "source": [
    "# We can index strings in the same way\n",
    "my_name = 'Andrey'\n",
    "\n",
    "my_name[3] # gives us 'r'\n",
    "\n",
    "my_name[0:3] # gives us 'And'\n",
    "\n",
    "# QUESTION. What would we get from planets[1][1] ?\n",
    "planets[1][1] # gives us second character in first element from lists planets"
   ]
  },
  {
   "cell_type": "markdown",
   "id": "f5429c8a-840d-4e94-8ca2-ed5ca01fb3ad",
   "metadata": {},
   "source": [
    "**Basic Functions**\n",
    "\n",
    "> print( )\n",
    "\n",
    "&emsp; &emsp; Takes a string and prints it to the console"
   ]
  },
  {
   "cell_type": "code",
   "execution_count": 67,
   "id": "7420dffa-4be7-45bb-b106-2ffe0834640f",
   "metadata": {},
   "outputs": [
    {
     "name": "stdout",
     "output_type": "stream",
     "text": [
      "Hello Eunji\n"
     ]
    }
   ],
   "source": [
    "# TASK: Assign a string to this variable:\n",
    "your_name = \"Eunji\" \n",
    "\n",
    "# Use the 'print' function to greet you:\n",
    "print('Hello ' + your_name) "
   ]
  },
  {
   "cell_type": "markdown",
   "id": "af4bd49b-6670-4348-8ca7-cd18423cedb4",
   "metadata": {},
   "source": [
    "> len( )\n",
    "\n",
    "&emsp; &emsp; Return the length of a list/string"
   ]
  },
  {
   "cell_type": "code",
   "execution_count": 70,
   "id": "3a999492-35fc-4f21-b3d0-b89e453d55cf",
   "metadata": {},
   "outputs": [
    {
     "data": {
      "text/plain": [
       "5"
      ]
     },
     "execution_count": 70,
     "metadata": {},
     "output_type": "execute_result"
    }
   ],
   "source": [
    "num_letters = len(your_name)\n",
    "num_letters"
   ]
  },
  {
   "cell_type": "markdown",
   "id": "f2c582c2-075e-45c5-a19b-1bb4d41a9918",
   "metadata": {},
   "source": [
    "> str( )\n",
    "\n",
    "&emsp; &emsp; Convert that integer into string"
   ]
  },
  {
   "cell_type": "code",
   "execution_count": 71,
   "id": "febef13d-b529-4f0a-808c-920dc700f98f",
   "metadata": {},
   "outputs": [
    {
     "name": "stdout",
     "output_type": "stream",
     "text": [
      "Your name is 5 letters long.\n"
     ]
    }
   ],
   "source": [
    "num_letters_string = str(num_letters)\n",
    "\n",
    "print('Your name is ' + num_letters_string + ' letters long.')"
   ]
  },
  {
   "cell_type": "markdown",
   "id": "0ed7e2c1-1bb3-4da7-83c1-e36fcc8729c5",
   "metadata": {},
   "source": [
    "> int( ), float( ), str( )\n",
    "\n",
    "&emsp; &emsp; Change types of data into integers, floats, or strings"
   ]
  },
  {
   "cell_type": "code",
   "execution_count": 75,
   "id": "07773be2-d9cc-4648-b831-53315860f05b",
   "metadata": {},
   "outputs": [
    {
     "data": {
      "text/plain": [
       "list"
      ]
     },
     "execution_count": 75,
     "metadata": {},
     "output_type": "execute_result"
    }
   ],
   "source": [
    "my_age = '30'  # String\n",
    "\n",
    "int_my_age = int(my_age)    # gives 30\n",
    "float_my_age = float(my_age)  # gives 30.0\n",
    "#str(30)        # gives \"30\"\n",
    "\n",
    "type(int_my_age)       # gives 'int'\n",
    "type(float_my_age)     # gives 'float'\n",
    "type('30')     # gives 'str'\n",
    "\n",
    "# QUESTION: What is type([30])?\n",
    "# Expected. list\n",
    "type([30]) # Answer. list"
   ]
  },
  {
   "cell_type": "markdown",
   "id": "470c5d99-1ace-453b-a16c-66a1a51fbe80",
   "metadata": {},
   "source": [
    "**Basic Methods**\n",
    "\n",
    "Methods belongs types like lists or string, do specific things to them."
   ]
  },
  {
   "cell_type": "markdown",
   "id": "3fc5c7e2-4bfd-4b68-8174-958deae62155",
   "metadata": {},
   "source": [
    "> append( )\n",
    "\n",
    "&emsp; &emsp; Add items to end of the list"
   ]
  },
  {
   "cell_type": "code",
   "execution_count": 76,
   "id": "1c054a13-c4f7-42dc-b0c9-7c37b2d2f7b0",
   "metadata": {},
   "outputs": [
    {
     "name": "stdout",
     "output_type": "stream",
     "text": [
      "['Mercury', 'Venus', 'Earth', 'Mars', 'Jupiter']\n"
     ]
    }
   ],
   "source": [
    "planets = ['Mercury', 'Venus', 'Earth', 'Mars']\n",
    "\n",
    "planets.append('Jupiter')\n",
    "print(planets)"
   ]
  },
  {
   "cell_type": "markdown",
   "id": "fe6a2742-9e87-44de-bda5-e97a33f17109",
   "metadata": {},
   "source": [
    "> upper( )\n",
    "\n",
    "&emsp; &emsp; Turn the characters in string to Uppercase"
   ]
  },
  {
   "cell_type": "code",
   "execution_count": 78,
   "id": "9b71940c-116c-4cc7-9902-e4878235e635",
   "metadata": {},
   "outputs": [
    {
     "name": "stdout",
     "output_type": "stream",
     "text": [
      "JUPITER\n"
     ]
    }
   ],
   "source": [
    "print(planets[-1].upper())"
   ]
  },
  {
   "cell_type": "markdown",
   "id": "910362d7-d6bf-4241-a35d-08eea6f0f394",
   "metadata": {},
   "source": [
    "**Conditionals**"
   ]
  },
  {
   "cell_type": "code",
   "execution_count": 82,
   "id": "8f102f6a-290c-4a31-a2e2-2cd59fc5599b",
   "metadata": {},
   "outputs": [
    {
     "name": "stdout",
     "output_type": "stream",
     "text": [
      "Take a break from this exercise.\n",
      "You should go have a cup of coffee.\n"
     ]
    }
   ],
   "source": [
    "# TASK: Assign a bool to this variable, either True or False: (case-sensitive)\n",
    "you_like_coffee = True\n",
    "\n",
    "print('Take a break from this exercise.')\n",
    "if you_like_coffee:\n",
    "    print('You should go have a cup of coffee.')\n",
    "else:\n",
    "    print('You should maybe make a nice cup of tea.')"
   ]
  },
  {
   "cell_type": "code",
   "execution_count": 83,
   "id": "c2eba6c9-83f8-4063-aa87-58e8008ad809",
   "metadata": {},
   "outputs": [
    {
     "name": "stdout",
     "output_type": "stream",
     "text": [
      "It's pretty cold out\n"
     ]
    }
   ],
   "source": [
    "# In Python, we can use 'elif' to use else-if statement\n",
    "\n",
    "# TASK: Check the weather and assign a number to this variable\n",
    "todays_temperature = 9\n",
    "\n",
    "if todays_temperature > 30:\n",
    "    print(\"It's hot!\")\n",
    "elif todays_temperature > 20:\n",
    "    print('Nice and warm')\n",
    "elif todays_temperature > 10:\n",
    "    print('A little chilly today')\n",
    "elif todays_temperature > 0:\n",
    "    print(\"It's pretty cold out\")\n",
    "else:\n",
    "    print(\"It's absolutely freezing\")"
   ]
  },
  {
   "cell_type": "code",
   "execution_count": 88,
   "id": "c6bf523c-9cc5-4a77-a590-44d4d8c8d54c",
   "metadata": {},
   "outputs": [
    {
     "name": "stdout",
     "output_type": "stream",
     "text": [
      "a= 20 b= 17\n",
      "a is larger than b\n"
     ]
    }
   ],
   "source": [
    "# TASK: Assign some random numbers to these two variables:\n",
    "import random\n",
    "\n",
    "a = random.randint(0,20)\n",
    "b = random.randint(0,20)\n",
    "\n",
    "print(\"a=\",a, \"b=\", b)\n",
    "\n",
    "if a > b:\n",
    "    print('a is larger than b')\n",
    "elif b > a:\n",
    "    print('b is larger than a')\n",
    "else:\n",
    "    print('a and b are the same')"
   ]
  },
  {
   "cell_type": "markdown",
   "id": "82a26fb4-44a6-488f-838f-91c7ad931c97",
   "metadata": {},
   "source": [
    "**String Formatting**"
   ]
  },
  {
   "cell_type": "code",
   "execution_count": 90,
   "id": "c550b0ca-db4e-4636-b98b-c509b5fbae5d",
   "metadata": {},
   "outputs": [],
   "source": [
    "my_name = 'Andrey'\n",
    "my_age = 30\n",
    "favourite_drink = \"coffee\" "
   ]
  },
  {
   "cell_type": "markdown",
   "id": "b5e540a3-4b84-48fe-8549-954c0dd94794",
   "metadata": {},
   "source": [
    "> %s\n",
    "\n",
    "&emsp; &emsp; Converts integers to strings automatically"
   ]
  },
  {
   "cell_type": "code",
   "execution_count": 92,
   "id": "b7019fb2-2262-4ad5-b0c4-06758faaa0d5",
   "metadata": {},
   "outputs": [
    {
     "name": "stdout",
     "output_type": "stream",
     "text": [
      "My name is Andrey, I'm 30 and I like coffee\n"
     ]
    }
   ],
   "source": [
    "print(\"My name is %s, I'm %s and I like %s\" % (my_name, my_age, favourite_drink))"
   ]
  },
  {
   "cell_type": "markdown",
   "id": "f227545f-3435-4149-9c05-3a2599fbbfef",
   "metadata": {},
   "source": [
    "> formate( ) method"
   ]
  },
  {
   "cell_type": "code",
   "execution_count": 93,
   "id": "dc6328eb-6b3c-4430-a8ba-02570fdef77e",
   "metadata": {},
   "outputs": [
    {
     "name": "stdout",
     "output_type": "stream",
     "text": [
      "My name is Andrey, I'm 30 and I like coffee\n"
     ]
    }
   ],
   "source": [
    "print(\"My name is {}, I'm {} and I like {}\".format(my_name, my_age, favourite_drink))"
   ]
  },
  {
   "cell_type": "markdown",
   "id": "f792401d-fcaf-42d8-8350-a56e2f9c8852",
   "metadata": {},
   "source": [
    "> f-string Notation"
   ]
  },
  {
   "cell_type": "code",
   "execution_count": 94,
   "id": "b347369e-1d39-4e14-a61e-58f967ab39ee",
   "metadata": {},
   "outputs": [
    {
     "name": "stdout",
     "output_type": "stream",
     "text": [
      "My name is Andrey, I'm 30 and I like coffee\n"
     ]
    }
   ],
   "source": [
    "print(f\"My name is {my_name}, I'm {my_age} and I like {favourite_drink}\")"
   ]
  },
  {
   "cell_type": "code",
   "execution_count": 95,
   "id": "3c636a79-e63f-43c5-b3e0-29aed2215117",
   "metadata": {},
   "outputs": [
    {
     "name": "stdout",
     "output_type": "stream",
     "text": [
      "Your name is 5 letters long.\n"
     ]
    }
   ],
   "source": [
    "# TASK: Remember this statement from earlier:\n",
    "#print('Your name is ' + num_letters_string + ' letters long.')\n",
    "# Rewrite it using one of these string formatting methods, instead of adding\n",
    "print(f\"Your name is {num_letters_string} letters long.\")"
   ]
  },
  {
   "cell_type": "markdown",
   "id": "682699bd-48fc-432f-914b-e4cb5311c5c9",
   "metadata": {},
   "source": [
    "**Loops**"
   ]
  },
  {
   "cell_type": "code",
   "execution_count": 96,
   "id": "a0bafc8c-8545-4258-bf08-598eb6e2a802",
   "metadata": {},
   "outputs": [
    {
     "name": "stdout",
     "output_type": "stream",
     "text": [
      "0\n",
      "1\n",
      "2\n",
      "3\n",
      "4\n"
     ]
    }
   ],
   "source": [
    "numbers = [0, 1, 2, 3, 4]\n",
    "\n",
    "for n in numbers:\n",
    "    print(n)\n",
    "    "
   ]
  },
  {
   "cell_type": "code",
   "execution_count": 97,
   "id": "a95d13d0-0d0a-4c00-98a1-7f65c928c9a8",
   "metadata": {},
   "outputs": [
    {
     "name": "stdout",
     "output_type": "stream",
     "text": [
      "0\n",
      "1\n",
      "4\n",
      "9\n",
      "16\n"
     ]
    }
   ],
   "source": [
    "# another common thing to do is loop across a range:\n",
    "for n in range(5):  # this does the same thing as before: range(5) is the list [0,1,2,3,4]\n",
    "    print(n**2)     # we can do whatever we want with the temporary variables. here i've squared them"
   ]
  },
  {
   "cell_type": "code",
   "execution_count": 98,
   "id": "c13db994-c967-4824-af28-621af10615ab",
   "metadata": {},
   "outputs": [
    {
     "name": "stdout",
     "output_type": "stream",
     "text": [
      "Mercury has 7 letters\n",
      "Venus has 5 letters\n",
      "Earth has 5 letters\n",
      "Mars has 4 letters\n"
     ]
    }
   ],
   "source": [
    "# Also we can loop throught arbitrary lists\n",
    "planets = ['Mercury', 'Venus', 'Earth', 'Mars']\n",
    "\n",
    "for planet in planets:\n",
    "    num_letters = len(planet)\n",
    "    print(f\"{planet} has {num_letters} letters\") "
   ]
  },
  {
   "cell_type": "code",
   "execution_count": 99,
   "id": "f960d089-0cf2-4d69-af90-3b5f6104fd9f",
   "metadata": {},
   "outputs": [
    {
     "name": "stdout",
     "output_type": "stream",
     "text": [
      "Give me an M\n",
      "Give me an A\n",
      "Give me an R\n",
      "Give me an S\n"
     ]
    }
   ],
   "source": [
    "# Or across strings: (basically anything you can index)\n",
    "\n",
    "for letter in 'Mars':\n",
    "    print(f\"Give me an {letter.upper()}\")"
   ]
  },
  {
   "cell_type": "code",
   "execution_count": 109,
   "id": "cce997e9-b280-4f0e-8115-941368978345",
   "metadata": {},
   "outputs": [
    {
     "name": "stdout",
     "output_type": "stream",
     "text": [
      "2\n",
      "4\n",
      "8\n",
      "16\n",
      "32\n",
      "64\n",
      "128\n",
      "256\n"
     ]
    }
   ],
   "source": [
    "# TASK: Write a loop that prints all the powers of 2\n",
    "# up to 256.\n",
    "# that is: 2, 4, 8, 16, 32, 64, 128, 256\n",
    "\n",
    "for n in range(8):\n",
    "    p = n+1\n",
    "    print(2**p)"
   ]
  },
  {
   "cell_type": "markdown",
   "id": "a616eefb-c98a-44bc-ab0c-41d18255b2c2",
   "metadata": {},
   "source": [
    "**Defining Functions**\n",
    "\n",
    "Writing your own functions is very useful thing. \n",
    "\n",
    "Copying the same code out multiple times can be annoying because if you decide to change it you gave to change it everywhere. However, writing your own function lets you re-use code by defining subroutines you'll use multiple times. "
   ]
  },
  {
   "cell_type": "code",
   "execution_count": 106,
   "id": "314b6d42-d341-4933-908d-c583598a5754",
   "metadata": {},
   "outputs": [
    {
     "name": "stdout",
     "output_type": "stream",
     "text": [
      "15\n"
     ]
    }
   ],
   "source": [
    "def add(a,b): \n",
    "    c = a + b\n",
    "    return c\n",
    "\n",
    "value = add(5, 10)\n",
    "\n",
    "print(value)"
   ]
  },
  {
   "cell_type": "code",
   "execution_count": 107,
   "id": "fc808fcb-8cf3-4560-b211-3513d777b842",
   "metadata": {},
   "outputs": [
    {
     "name": "stdout",
     "output_type": "stream",
     "text": [
      "True\n",
      "False\n"
     ]
    }
   ],
   "source": [
    "def is_even(number):\n",
    "    if number % 2 == 0:   # does the remainder when dividing by 2 equal 0?\n",
    "        return True\n",
    "    else:\n",
    "        return False\n",
    "    \n",
    "print(is_even(10))\n",
    "print(is_even(11))"
   ]
  },
  {
   "cell_type": "code",
   "execution_count": 112,
   "id": "fac23553-0903-421e-af10-970ce9f6b4bb",
   "metadata": {},
   "outputs": [
    {
     "data": {
      "text/plain": [
       "'pRoGrAmMiNg iS StUpId'"
      ]
     },
     "execution_count": 112,
     "metadata": {},
     "output_type": "execute_result"
    }
   ],
   "source": [
    "# TASK: Try and go through this function line-by-line\n",
    "# and explain what every line is doing, with a comment.\n",
    "\n",
    "def alternate(string):\n",
    "    new_string = \"\" # Empty string\n",
    "    \n",
    "    num_letters = len(string) # Length of input string\n",
    "    \n",
    "    for l in range(num_letters): # Looping through zero to (num. of letters-1)\n",
    "        \n",
    "        letter = string[l] # gives us lth character as letter\n",
    "        \n",
    "        if is_even(l): # if the l==even\n",
    "            new_letter = letter.lower() # Store character as lower letter in new_letter\n",
    "        \n",
    "        else: #if the l==odd\n",
    "            new_letter = letter.upper() # Store character as upper letter in new_letter\n",
    "            \n",
    "        new_string += new_letter # Add new_letter in new_string\n",
    "        \n",
    "    return new_string #Return string which is stored in new_string\n",
    "        \n",
    "\n",
    "# QUESTION. Can you explain what this function does as a whole?\n",
    "# This function takes a string and returns a string \n",
    "# after changes characters in odd number position into Lowercase and the other characters in Uppercase. \n",
    "\n",
    "alternate('programming is stupid')"
   ]
  },
  {
   "cell_type": "markdown",
   "id": "63c86dfd-ae8e-4744-a8c0-665857ebf5f1",
   "metadata": {},
   "source": [
    "### Real-World Exercise\n",
    "For Programming jobs, the FizzBuzz test is a common interview question which is done to filter out candidates who cannot code at all. \n"
   ]
  },
  {
   "cell_type": "markdown",
   "id": "1f5b5aaf-344d-4c55-b446-2f4cb3f8864b",
   "metadata": {},
   "source": [
    "It's based on a counting game: You count from 1 to 20, saying the numbers out loud. Except instead of saying a number divisible by 3, you say 'Fizz', and instead of saying a number divisible by 5, you say 'Buzz'. If a number is divisible by both 3 and 5, then you have to say 'FizzBuzz'. "
   ]
  },
  {
   "cell_type": "code",
   "execution_count": 117,
   "id": "2014430e-1d71-4e28-8900-b2a380b4ccfc",
   "metadata": {},
   "outputs": [
    {
     "data": {
      "text/plain": [
       "[1, 2, 3, 4, 5, 6, 7, 8, 9, 10, 11, 12, 13, 14, 15, 16, 17, 18, 19, 20]"
      ]
     },
     "execution_count": 117,
     "metadata": {},
     "output_type": "execute_result"
    }
   ],
   "source": [
    "# TASK: Write your FizzBuzz code here:\n",
    "\n",
    "bases = list(range(1,21))\n",
    "bases"
   ]
  },
  {
   "cell_type": "code",
   "execution_count": 122,
   "id": "6d5fdf22-bc81-4498-815c-80fb042e03d8",
   "metadata": {},
   "outputs": [
    {
     "name": "stdout",
     "output_type": "stream",
     "text": [
      "[1, 2, 'Fizz', 4, 'Buzz', 'Fizz', 7, 8, 'Fizz', 'Buzz', 11, 'Fizz', 13, 14, 'FizzBuzz', 16, 17, 'Fizz', 19, 'Buzz']\n"
     ]
    }
   ],
   "source": [
    "fizzBuzz = []\n",
    "\n",
    "for i in bases:\n",
    "    if i%3 == 0:\n",
    "        if i%5 == 0:\n",
    "            fizzBuzz.append(\"FizzBuzz\")\n",
    "        else:\n",
    "            fizzBuzz.append(\"Fizz\")\n",
    "    elif i%5 == 0 :\n",
    "        fizzBuzz.append(\"Buzz\")\n",
    "    else:\n",
    "        fizzBuzz.append(i)\n",
    "        \n",
    "print(fizzBuzz)\n"
   ]
  }
 ],
 "metadata": {
  "kernelspec": {
   "display_name": "Python 3.9.6 [python/3.9.6]",
   "language": "python",
   "name": "sys_python396"
  },
  "language_info": {
   "codemirror_mode": {
    "name": "ipython",
    "version": 3
   },
   "file_extension": ".py",
   "mimetype": "text/x-python",
   "name": "python",
   "nbconvert_exporter": "python",
   "pygments_lexer": "ipython3",
   "version": "3.9.6"
  }
 },
 "nbformat": 4,
 "nbformat_minor": 5
}
